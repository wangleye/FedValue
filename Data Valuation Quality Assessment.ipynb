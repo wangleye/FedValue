{
 "cells": [
  {
   "cell_type": "code",
   "execution_count": 11,
   "metadata": {},
   "outputs": [],
   "source": [
    "import sklearn\n",
    "import xgboost\n",
    "import shap\n",
    "import numpy as np\n",
    "import pandas as pd"
   ]
  },
  {
   "cell_type": "code",
   "execution_count": 12,
   "metadata": {},
   "outputs": [
    {
     "data": {
      "text/html": [
       "<div>\n",
       "<style scoped>\n",
       "    .dataframe tbody tr th:only-of-type {\n",
       "        vertical-align: middle;\n",
       "    }\n",
       "\n",
       "    .dataframe tbody tr th {\n",
       "        vertical-align: top;\n",
       "    }\n",
       "\n",
       "    .dataframe thead th {\n",
       "        text-align: right;\n",
       "    }\n",
       "</style>\n",
       "<table border=\"1\" class=\"dataframe\">\n",
       "  <thead>\n",
       "    <tr style=\"text-align: right;\">\n",
       "      <th></th>\n",
       "      <th>features</th>\n",
       "      <th>SVM</th>\n",
       "      <th>GBRT</th>\n",
       "      <th>LR</th>\n",
       "      <th>CMI</th>\n",
       "      <th>XGBoost</th>\n",
       "    </tr>\n",
       "  </thead>\n",
       "  <tbody>\n",
       "    <tr>\n",
       "      <th>0</th>\n",
       "      <td>1</td>\n",
       "      <td>0.614018</td>\n",
       "      <td>1.288093</td>\n",
       "      <td>0.860050</td>\n",
       "      <td>0.071629</td>\n",
       "      <td>0.057053</td>\n",
       "    </tr>\n",
       "    <tr>\n",
       "      <th>1</th>\n",
       "      <td>2</td>\n",
       "      <td>1.375014</td>\n",
       "      <td>3.631284</td>\n",
       "      <td>2.397464</td>\n",
       "      <td>0.116307</td>\n",
       "      <td>0.138209</td>\n",
       "    </tr>\n",
       "    <tr>\n",
       "      <th>2</th>\n",
       "      <td>3</td>\n",
       "      <td>0.516523</td>\n",
       "      <td>0.939801</td>\n",
       "      <td>0.750084</td>\n",
       "      <td>0.084731</td>\n",
       "      <td>0.048265</td>\n",
       "    </tr>\n",
       "    <tr>\n",
       "      <th>3</th>\n",
       "      <td>4</td>\n",
       "      <td>0.342510</td>\n",
       "      <td>0.558132</td>\n",
       "      <td>0.349279</td>\n",
       "      <td>0.037088</td>\n",
       "      <td>0.018703</td>\n",
       "    </tr>\n",
       "    <tr>\n",
       "      <th>4</th>\n",
       "      <td>5</td>\n",
       "      <td>0.191884</td>\n",
       "      <td>0.602191</td>\n",
       "      <td>0.594868</td>\n",
       "      <td>0.020084</td>\n",
       "      <td>0.022247</td>\n",
       "    </tr>\n",
       "  </tbody>\n",
       "</table>\n",
       "</div>"
      ],
      "text/plain": [
       "   features       SVM      GBRT        LR       CMI   XGBoost\n",
       "0         1  0.614018  1.288093  0.860050  0.071629  0.057053\n",
       "1         2  1.375014  3.631284  2.397464  0.116307  0.138209\n",
       "2         3  0.516523  0.939801  0.750084  0.084731  0.048265\n",
       "3         4  0.342510  0.558132  0.349279  0.037088  0.018703\n",
       "4         5  0.191884  0.602191  0.594868  0.020084  0.022247"
      ]
     },
     "execution_count": 12,
     "metadata": {},
     "output_type": "execute_result"
    }
   ],
   "source": [
    "#dataset_name = \"wine\"\n",
    "#dataset_name = \"parkinsons\"\n",
    "#dataset_name = \"breast\"\n",
    "#dataset_name = \"ionosphere\"\n",
    "#dataset_name = \"titanic\"\n",
    "#dataset_name = \"landsat\"\n",
    "#dataset_name = \"spect\"\n",
    "#dataset_name = \"congress\"\n",
    "dataset_name = \"winequality-red\"\n",
    "#dataset_name = \"winequality-white\"\n",
    "\n",
    "data_value_pd = pd.read_csv('{}/{}_data_values.csv'.format(dataset_name, dataset_name))\n",
    "data_value_pd.head()"
   ]
  },
  {
   "cell_type": "code",
   "execution_count": 13,
   "metadata": {},
   "outputs": [
    {
     "name": "stdout",
     "output_type": "stream",
     "text": [
      "NDCG\n",
      "SVM 0.9999999999999998 0.9667443533867283 0.9806773875346617 0.9937229570000475 avg: 0.9852861744803594\n",
      "GBRT 0.9312795719226257 0.9999999999999998 0.9540394263113975 0.951088295069374 avg: 0.9591018233258493\n",
      "LR 0.9916252779327924 0.989155002041116 1.0000000000000002 0.989651386209267 avg: 0.9926079165457938\n",
      "CMI 0.9936092727114203 0.9757710839208635 0.9824270866144335 1.0000000000000002 avg: 0.9879518608116793\n",
      "RMSE\n",
      "SVM 0.0 0.03073361873023278 0.023679307524981437 0.0260745400791433 avg: 0.02012186658358938\n",
      "GBRT 0.03073361873023278 0.0 0.02200502777276968 0.02951851608691589 avg: 0.020564290647479586\n",
      "LR 0.023679307524981437 0.02200502777276968 0.0 0.032141000648746094 avg: 0.019456333986624302\n",
      "CMI 0.0260745400791433 0.02951851608691589 0.032141000648746094 0.0 avg: 0.02193351420370132\n"
     ]
    }
   ],
   "source": [
    "model_names = ['SVM', 'GBRT', 'LR', 'CMI']\n",
    "\n",
    "NDCG_dict = {}\n",
    "RMSE_dict = {}\n",
    "for model1 in model_names:\n",
    "    NDCG_dict[model1] = []\n",
    "    RMSE_dict[model1] = []\n",
    "    for model2 in model_names:\n",
    "        model2_scores = np.array(data_value_pd[model2].values.tolist())\n",
    "        model2_scores /= np.sum(model2_scores)\n",
    "        model1_scores = np.array(data_value_pd[model1].values.tolist())\n",
    "        model1_scores /= np.sum(model1_scores)\n",
    "        NDCG = sklearn.metrics.ndcg_score([model2_scores], [model1_scores])\n",
    "        NDCG_dict[model1].append(NDCG)\n",
    "        RMSE = np.sqrt(sklearn.metrics.mean_squared_error([model2_scores], [model1_scores]))\n",
    "        RMSE_dict[model1].append(RMSE)\n",
    "\n",
    "print(\"NDCG\")\n",
    "for model in model_names:\n",
    "    print(model, ' '.join([str(item) for item in NDCG_dict[model]]), \"avg:\", np.mean(NDCG_dict[model]))\n",
    "    \n",
    "print(\"RMSE\")\n",
    "for model in model_names:\n",
    "    print(model, ' '.join([str(item) for item in RMSE_dict[model]]), \"avg:\", np.mean(RMSE_dict[model]))"
   ]
  },
  {
   "cell_type": "code",
   "execution_count": null,
   "metadata": {},
   "outputs": [],
   "source": []
  }
 ],
 "metadata": {
  "kernelspec": {
   "display_name": "Python 3",
   "language": "python",
   "name": "python3"
  },
  "language_info": {
   "codemirror_mode": {
    "name": "ipython",
    "version": 3
   },
   "file_extension": ".py",
   "mimetype": "text/x-python",
   "name": "python",
   "nbconvert_exporter": "python",
   "pygments_lexer": "ipython3",
   "version": "3.8.3"
  }
 },
 "nbformat": 4,
 "nbformat_minor": 4
}
