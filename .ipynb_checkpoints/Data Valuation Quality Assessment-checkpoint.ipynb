{
 "cells": [
  {
   "cell_type": "markdown",
   "metadata": {},
   "source": [
    "This code computes the AggNDCG reported in Talbe 2 of the paper"
   ]
  },
  {
   "cell_type": "code",
   "execution_count": 1,
   "metadata": {},
   "outputs": [],
   "source": [
    "import sklearn\n",
    "import xgboost\n",
    "import shap\n",
    "import numpy as np\n",
    "import pandas as pd"
   ]
  },
  {
   "cell_type": "code",
   "execution_count": 2,
   "metadata": {},
   "outputs": [
    {
     "data": {
      "text/html": [
       "<div>\n",
       "<style scoped>\n",
       "    .dataframe tbody tr th:only-of-type {\n",
       "        vertical-align: middle;\n",
       "    }\n",
       "\n",
       "    .dataframe tbody tr th {\n",
       "        vertical-align: top;\n",
       "    }\n",
       "\n",
       "    .dataframe thead th {\n",
       "        text-align: right;\n",
       "    }\n",
       "</style>\n",
       "<table border=\"1\" class=\"dataframe\">\n",
       "  <thead>\n",
       "    <tr style=\"text-align: right;\">\n",
       "      <th></th>\n",
       "      <th>features</th>\n",
       "      <th>SVM</th>\n",
       "      <th>GBRT</th>\n",
       "      <th>LR</th>\n",
       "      <th>CMI</th>\n",
       "      <th>XGBoost</th>\n",
       "      <th>NN</th>\n",
       "    </tr>\n",
       "  </thead>\n",
       "  <tbody>\n",
       "    <tr>\n",
       "      <th>0</th>\n",
       "      <td>1</td>\n",
       "      <td>1.196901</td>\n",
       "      <td>2.898012</td>\n",
       "      <td>1.591659</td>\n",
       "      <td>971.513300</td>\n",
       "      <td>0.032555</td>\n",
       "      <td>1.461241</td>\n",
       "    </tr>\n",
       "    <tr>\n",
       "      <th>1</th>\n",
       "      <td>2</td>\n",
       "      <td>0.703209</td>\n",
       "      <td>0.086201</td>\n",
       "      <td>0.573110</td>\n",
       "      <td>623.554292</td>\n",
       "      <td>0.015929</td>\n",
       "      <td>1.421265</td>\n",
       "    </tr>\n",
       "    <tr>\n",
       "      <th>2</th>\n",
       "      <td>3</td>\n",
       "      <td>0.248714</td>\n",
       "      <td>1.334072</td>\n",
       "      <td>0.671247</td>\n",
       "      <td>373.116145</td>\n",
       "      <td>0.011093</td>\n",
       "      <td>1.217117</td>\n",
       "    </tr>\n",
       "    <tr>\n",
       "      <th>3</th>\n",
       "      <td>4</td>\n",
       "      <td>0.552678</td>\n",
       "      <td>0.302525</td>\n",
       "      <td>0.768815</td>\n",
       "      <td>565.156222</td>\n",
       "      <td>0.004220</td>\n",
       "      <td>1.555653</td>\n",
       "    </tr>\n",
       "    <tr>\n",
       "      <th>4</th>\n",
       "      <td>5</td>\n",
       "      <td>0.255234</td>\n",
       "      <td>2.012266</td>\n",
       "      <td>0.158078</td>\n",
       "      <td>644.152779</td>\n",
       "      <td>0.027117</td>\n",
       "      <td>0.999472</td>\n",
       "    </tr>\n",
       "  </tbody>\n",
       "</table>\n",
       "</div>"
      ],
      "text/plain": [
       "   features       SVM      GBRT        LR         CMI   XGBoost        NN\n",
       "0         1  1.196901  2.898012  1.591659  971.513300  0.032555  1.461241\n",
       "1         2  0.703209  0.086201  0.573110  623.554292  0.015929  1.421265\n",
       "2         3  0.248714  1.334072  0.671247  373.116145  0.011093  1.217117\n",
       "3         4  0.552678  0.302525  0.768815  565.156222  0.004220  1.555653\n",
       "4         5  0.255234  2.012266  0.158078  644.152779  0.027117  0.999472"
      ]
     },
     "execution_count": 2,
     "metadata": {},
     "output_type": "execute_result"
    }
   ],
   "source": [
    "\n",
    "dataset_name = \"wine\"\n",
    "#dataset_name = \"parkinsons\"\n",
    "#dataset_name = \"breast\"\n",
    "#dataset_name = \"spect\"\n",
    "#dataset_name = \"winequality-red\"\n",
    "#dataset_name = \"winequality-white\"\n",
    "\n",
    "data_value_pd = pd.read_csv('{}/{}_data_values.csv'.format(dataset_name, dataset_name))\n",
    "data_value_pd.head()"
   ]
  },
  {
   "cell_type": "code",
   "execution_count": 3,
   "metadata": {},
   "outputs": [
    {
     "name": "stdout",
     "output_type": "stream",
     "text": [
      "NDCG\n",
      "\t ['SVM', 'GBRT', 'LR', 'CMI']\n",
      "SVM 1.0 0.7730998982046978 0.9941794824469913 0.9766565946694408\n",
      "GBRT 0.8988357820779971 1.0000000000000002 0.9350384245737386 0.9783285263125996\n",
      "LR 0.9955608168073415 0.7970011954592784 1.0 0.9791421033174397\n",
      "CMI 0.9408516620183579 0.9567742397468947 0.9495630439485147 0.9999999999999999\n",
      "SVM AggNDCG 0.9473980295281033\n",
      "GBRT AggNDCG 0.9173847582969008\n",
      "LR AggNDCG 0.956310633319163\n",
      "CMI AggNDCG 0.9726645212516559\n"
     ]
    }
   ],
   "source": [
    "model_names = ['SVM', 'GBRT', 'LR', 'CMI']\n",
    "\n",
    "NDCG_dict = {}\n",
    "NDCG2_dict = {}\n",
    "\n",
    "for model in model_names:\n",
    "    NDCG_dict[model] = []\n",
    "    NDCG2_dict[model] = []    \n",
    "\n",
    "for model1 in model_names:\n",
    "    for model2 in model_names:\n",
    "        model2_scores = np.array(data_value_pd[model2].values.tolist())\n",
    "        model2_scores /= np.sum(model2_scores)\n",
    "        model1_scores = np.array(data_value_pd[model1].values.tolist())\n",
    "        model1_scores /= np.sum(model1_scores)\n",
    "        NDCG = sklearn.metrics.ndcg_score([model2_scores], [model1_scores])\n",
    "        NDCG_dict[model1].append(NDCG)\n",
    "        NDCG2_dict[model2].append(NDCG)\n",
    "\n",
    "print(\"NDCG\")\n",
    "print (\"\\t\", model_names)\n",
    "for model in model_names:\n",
    "    print(model, ' '.join([str(item) for item in NDCG_dict[model]]))\n",
    "for model in model_names:\n",
    "    print(model, 'AggNDCG', (np.mean(NDCG_dict[model])+np.mean(NDCG2_dict[model]))/2)\n",
    "    \n"
   ]
  },
  {
   "cell_type": "code",
   "execution_count": null,
   "metadata": {},
   "outputs": [],
   "source": []
  }
 ],
 "metadata": {
  "kernelspec": {
   "display_name": "Python 3",
   "language": "python",
   "name": "python3"
  },
  "language_info": {
   "codemirror_mode": {
    "name": "ipython",
    "version": 3
   },
   "file_extension": ".py",
   "mimetype": "text/x-python",
   "name": "python",
   "nbconvert_exporter": "python",
   "pygments_lexer": "ipython3",
   "version": "3.8.3"
  }
 },
 "nbformat": 4,
 "nbformat_minor": 4
}
